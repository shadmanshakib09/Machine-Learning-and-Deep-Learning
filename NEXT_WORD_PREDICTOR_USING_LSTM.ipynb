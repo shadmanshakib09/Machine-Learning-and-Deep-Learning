{
  "nbformat": 4,
  "nbformat_minor": 0,
  "metadata": {
    "colab": {
      "provenance": [],
      "gpuType": "T4",
      "authorship_tag": "ABX9TyMLlu82v7LC19RhApjMbXWV",
      "include_colab_link": true
    },
    "kernelspec": {
      "name": "python3",
      "display_name": "Python 3"
    },
    "language_info": {
      "name": "python"
    },
    "accelerator": "GPU"
  },
  "cells": [
    {
      "cell_type": "markdown",
      "metadata": {
        "id": "view-in-github",
        "colab_type": "text"
      },
      "source": [
        "<a href=\"https://colab.research.google.com/github/shadmanshakib09/Machine-Learning-and-Deep-Learning/blob/main/NEXT_WORD_PREDICTOR_USING_LSTM.ipynb\" target=\"_parent\"><img src=\"https://colab.research.google.com/assets/colab-badge.svg\" alt=\"Open In Colab\"/></a>"
      ]
    },
    {
      "cell_type": "code",
      "execution_count": 1,
      "metadata": {
        "id": "8ukvtgl0cNjK"
      },
      "outputs": [],
      "source": [
        "import tensorflow as tf\n",
        "from tensorflow.keras.preprocessing.text import Tokenizer\n"
      ]
    },
    {
      "cell_type": "code",
      "source": [
        "tokenizer = Tokenizer()"
      ],
      "metadata": {
        "id": "uad6GxTUe9tQ"
      },
      "execution_count": 2,
      "outputs": []
    },
    {
      "cell_type": "code",
      "source": [
        "data = \"\"\"Electromagnetism:\n",
        " 1. Start by studying\n",
        " Maxwell’s equations\n",
        " and their applications in\n",
        " modern technologies\n",
        " such as wireless power\n",
        " transfer or\n",
        " electromagnetic wave\n",
        " propagation.\n",
        " 2. Consider simulation\n",
        " tools like ANSYS HFSS\n",
        " for designing\n",
        " electromagnetic\n",
        " systems.\n",
        " Quantum Mechanics:\n",
        " 1. Focus on quantum\n",
        " phenomena applied to\n",
        " electronics, such as\n",
        " quantum tunneling in\n",
        " semiconductors or\n",
        " quantum computing\n",
        " basics.\n",
        " 2. Explore simulations in\n",
        " quantum circuits using\n",
        " Qiskit or MATLAB.\n",
        " Power:\n",
        " 1. Research into\n",
        " sustainable power\n",
        " generation and grid\n",
        " management. Begin\n",
        " with projects involving\n",
        " solar energy, wind\n",
        " turbines, or smart grids,\n",
        " and utilize software like\n",
        " ETAP for power system\n",
        " analysis.\n",
        " Metamaterials:\n",
        " Study how metamaterials can be\n",
        " used to manipulate\n",
        " electromagnetic waves,\n",
        " especially in sensor applications.\n",
        " Start by designing simulations in COMSOLorCSTStudio for\n",
        " customized metamaterial\n",
        " properties.\n",
        " Sensors:\n",
        " Focus on developing\n",
        " high-efficiency, low-cost sensors\n",
        " for environmental or biomedical\n",
        " applications. Investigate sensor\n",
        " calibration and data acquisition\n",
        " systems.\n",
        " EV(Electric Vehicles):\n",
        " Research efficient energy\n",
        " storage systems for EVs, and\n",
        " design electric drivetrain models\n",
        " using MATLAB/Simulink.\n",
        " Explore lightweight materials\n",
        " and low-power electronics to\n",
        " optimize EV efficiency.\n",
        " Biomedical Engineering:\n",
        " Work on bio-sensors for\n",
        " real-time health monitoring.\n",
        " Start with projects like\n",
        " non-invasive glucose sensors or\n",
        " heart rate monitors, using\n",
        " microcontroller platforms like\n",
        " Arduino.\n",
        "\"\"\""
      ],
      "metadata": {
        "id": "V1WcGKvVfAoH"
      },
      "execution_count": 3,
      "outputs": []
    },
    {
      "cell_type": "code",
      "source": [
        "tokenizer.fit_on_texts([data])"
      ],
      "metadata": {
        "id": "rU6p57KkffUF"
      },
      "execution_count": 4,
      "outputs": []
    },
    {
      "cell_type": "code",
      "source": [
        "tokenizer.word_index"
      ],
      "metadata": {
        "colab": {
          "base_uri": "https://localhost:8080/"
        },
        "id": "RnuTdJ5XfjxX",
        "outputId": "c3324271-0b15-43b3-8b6f-a61254f3e1f1"
      },
      "execution_count": 5,
      "outputs": [
        {
          "output_type": "execute_result",
          "data": {
            "text/plain": [
              "{'and': 1,\n",
              " 'or': 2,\n",
              " 'for': 3,\n",
              " 'in': 4,\n",
              " 'power': 5,\n",
              " 'quantum': 6,\n",
              " 'like': 7,\n",
              " 'sensors': 8,\n",
              " '1': 9,\n",
              " 'start': 10,\n",
              " 'applications': 11,\n",
              " 'electromagnetic': 12,\n",
              " 'systems': 13,\n",
              " 'on': 14,\n",
              " 'to': 15,\n",
              " 'using': 16,\n",
              " 'by': 17,\n",
              " 'such': 18,\n",
              " 'as': 19,\n",
              " '2': 20,\n",
              " 'designing': 21,\n",
              " 'focus': 22,\n",
              " 'electronics': 23,\n",
              " 'explore': 24,\n",
              " 'simulations': 25,\n",
              " 'matlab': 26,\n",
              " 'research': 27,\n",
              " 'with': 28,\n",
              " 'projects': 29,\n",
              " 'energy': 30,\n",
              " 'metamaterials': 31,\n",
              " 'sensor': 32,\n",
              " 'efficiency': 33,\n",
              " 'low': 34,\n",
              " 'biomedical': 35,\n",
              " 'ev': 36,\n",
              " 'electric': 37,\n",
              " 'electromagnetism': 38,\n",
              " 'studying': 39,\n",
              " 'maxwell’s': 40,\n",
              " 'equations': 41,\n",
              " 'their': 42,\n",
              " 'modern': 43,\n",
              " 'technologies': 44,\n",
              " 'wireless': 45,\n",
              " 'transfer': 46,\n",
              " 'wave': 47,\n",
              " 'propagation': 48,\n",
              " 'consider': 49,\n",
              " 'simulation': 50,\n",
              " 'tools': 51,\n",
              " 'ansys': 52,\n",
              " 'hfss': 53,\n",
              " 'mechanics': 54,\n",
              " 'phenomena': 55,\n",
              " 'applied': 56,\n",
              " 'tunneling': 57,\n",
              " 'semiconductors': 58,\n",
              " 'computing': 59,\n",
              " 'basics': 60,\n",
              " 'circuits': 61,\n",
              " 'qiskit': 62,\n",
              " 'into': 63,\n",
              " 'sustainable': 64,\n",
              " 'generation': 65,\n",
              " 'grid': 66,\n",
              " 'management': 67,\n",
              " 'begin': 68,\n",
              " 'involving': 69,\n",
              " 'solar': 70,\n",
              " 'wind': 71,\n",
              " 'turbines': 72,\n",
              " 'smart': 73,\n",
              " 'grids': 74,\n",
              " 'utilize': 75,\n",
              " 'software': 76,\n",
              " 'etap': 77,\n",
              " 'system': 78,\n",
              " 'analysis': 79,\n",
              " 'study': 80,\n",
              " 'how': 81,\n",
              " 'can': 82,\n",
              " 'be': 83,\n",
              " 'used': 84,\n",
              " 'manipulate': 85,\n",
              " 'waves': 86,\n",
              " 'especially': 87,\n",
              " 'comsolorcststudio': 88,\n",
              " 'customized': 89,\n",
              " 'metamaterial': 90,\n",
              " 'properties': 91,\n",
              " 'developing': 92,\n",
              " 'high': 93,\n",
              " 'cost': 94,\n",
              " 'environmental': 95,\n",
              " 'investigate': 96,\n",
              " 'calibration': 97,\n",
              " 'data': 98,\n",
              " 'acquisition': 99,\n",
              " 'vehicles': 100,\n",
              " 'efficient': 101,\n",
              " 'storage': 102,\n",
              " 'evs': 103,\n",
              " 'design': 104,\n",
              " 'drivetrain': 105,\n",
              " 'models': 106,\n",
              " 'simulink': 107,\n",
              " 'lightweight': 108,\n",
              " 'materials': 109,\n",
              " 'optimize': 110,\n",
              " 'engineering': 111,\n",
              " 'work': 112,\n",
              " 'bio': 113,\n",
              " 'real': 114,\n",
              " 'time': 115,\n",
              " 'health': 116,\n",
              " 'monitoring': 117,\n",
              " 'non': 118,\n",
              " 'invasive': 119,\n",
              " 'glucose': 120,\n",
              " 'heart': 121,\n",
              " 'rate': 122,\n",
              " 'monitors': 123,\n",
              " 'microcontroller': 124,\n",
              " 'platforms': 125,\n",
              " 'arduino': 126}"
            ]
          },
          "metadata": {},
          "execution_count": 5
        }
      ]
    },
    {
      "cell_type": "code",
      "source": [
        "for sentence in data.split('/n'):\n",
        "    print(sentence)"
      ],
      "metadata": {
        "colab": {
          "base_uri": "https://localhost:8080/"
        },
        "id": "G2MGUNcofopA",
        "outputId": "57fa652f-2e32-4b10-c958-6eca4efca27a"
      },
      "execution_count": 6,
      "outputs": [
        {
          "output_type": "stream",
          "name": "stdout",
          "text": [
            "Electromagnetism:\n",
            " 1. Start by studying\n",
            " Maxwell’s equations\n",
            " and their applications in\n",
            " modern technologies\n",
            " such as wireless power\n",
            " transfer or\n",
            " electromagnetic wave\n",
            " propagation.\n",
            " 2. Consider simulation\n",
            " tools like ANSYS HFSS\n",
            " for designing\n",
            " electromagnetic\n",
            " systems.\n",
            " Quantum Mechanics:\n",
            " 1. Focus on quantum\n",
            " phenomena applied to\n",
            " electronics, such as\n",
            " quantum tunneling in\n",
            " semiconductors or\n",
            " quantum computing\n",
            " basics.\n",
            " 2. Explore simulations in\n",
            " quantum circuits using\n",
            " Qiskit or MATLAB.\n",
            " Power:\n",
            " 1. Research into\n",
            " sustainable power\n",
            " generation and grid\n",
            " management. Begin\n",
            " with projects involving\n",
            " solar energy, wind\n",
            " turbines, or smart grids,\n",
            " and utilize software like\n",
            " ETAP for power system\n",
            " analysis.\n",
            " Metamaterials:\n",
            " Study how metamaterials can be\n",
            " used to manipulate\n",
            " electromagnetic waves,\n",
            " especially in sensor applications.\n",
            " Start by designing simulations in COMSOLorCSTStudio for\n",
            " customized metamaterial\n",
            " properties.\n",
            " Sensors:\n",
            " Focus on developing\n",
            " high-efficiency, low-cost sensors\n",
            " for environmental or biomedical\n",
            " applications. Investigate sensor\n",
            " calibration and data acquisition\n",
            " systems.\n",
            " EV(Electric Vehicles):\n",
            " Research efficient energy\n",
            " storage systems for EVs, and\n",
            " design electric drivetrain models\n",
            " using MATLAB/Simulink.\n",
            " Explore lightweight materials\n",
            " and low-power electronics to\n",
            " optimize EV efficiency.\n",
            " Biomedical Engineering:\n",
            " Work on bio-sensors for\n",
            " real-time health monitoring.\n",
            " Start with projects like\n",
            " non-invasive glucose sensors or\n",
            " heart rate monitors, using\n",
            " microcontroller platforms like\n",
            " Arduino. \n",
            "\n"
          ]
        }
      ]
    },
    {
      "cell_type": "code",
      "source": [
        "for sentence in data.split('\\n'):\n",
        "  print(tokenizer.texts_to_sequences([sentence])[0])"
      ],
      "metadata": {
        "colab": {
          "base_uri": "https://localhost:8080/"
        },
        "id": "Ymwi2XYAf6zp",
        "outputId": "26af7ee9-2727-4341-dead-d731d5a22dc9"
      },
      "execution_count": 7,
      "outputs": [
        {
          "output_type": "stream",
          "name": "stdout",
          "text": [
            "[38]\n",
            "[9, 10, 17, 39]\n",
            "[40, 41]\n",
            "[1, 42, 11, 4]\n",
            "[43, 44]\n",
            "[18, 19, 45, 5]\n",
            "[46, 2]\n",
            "[12, 47]\n",
            "[48]\n",
            "[20, 49, 50]\n",
            "[51, 7, 52, 53]\n",
            "[3, 21]\n",
            "[12]\n",
            "[13]\n",
            "[6, 54]\n",
            "[9, 22, 14, 6]\n",
            "[55, 56, 15]\n",
            "[23, 18, 19]\n",
            "[6, 57, 4]\n",
            "[58, 2]\n",
            "[6, 59]\n",
            "[60]\n",
            "[20, 24, 25, 4]\n",
            "[6, 61, 16]\n",
            "[62, 2, 26]\n",
            "[5]\n",
            "[9, 27, 63]\n",
            "[64, 5]\n",
            "[65, 1, 66]\n",
            "[67, 68]\n",
            "[28, 29, 69]\n",
            "[70, 30, 71]\n",
            "[72, 2, 73, 74]\n",
            "[1, 75, 76, 7]\n",
            "[77, 3, 5, 78]\n",
            "[79]\n",
            "[31]\n",
            "[80, 81, 31, 82, 83]\n",
            "[84, 15, 85]\n",
            "[12, 86]\n",
            "[87, 4, 32, 11]\n",
            "[10, 17, 21, 25, 4, 88, 3]\n",
            "[89, 90]\n",
            "[91]\n",
            "[8]\n",
            "[22, 14, 92]\n",
            "[93, 33, 34, 94, 8]\n",
            "[3, 95, 2, 35]\n",
            "[11, 96, 32]\n",
            "[97, 1, 98, 99]\n",
            "[13]\n",
            "[36, 37, 100]\n",
            "[27, 101, 30]\n",
            "[102, 13, 3, 103, 1]\n",
            "[104, 37, 105, 106]\n",
            "[16, 26, 107]\n",
            "[24, 108, 109]\n",
            "[1, 34, 5, 23, 15]\n",
            "[110, 36, 33]\n",
            "[35, 111]\n",
            "[112, 14, 113, 8, 3]\n",
            "[114, 115, 116, 117]\n",
            "[10, 28, 29, 7]\n",
            "[118, 119, 120, 8, 2]\n",
            "[121, 122, 123, 16]\n",
            "[124, 125, 7]\n",
            "[126]\n",
            "[]\n"
          ]
        }
      ]
    },
    {
      "cell_type": "code",
      "source": [
        "input_sequences = []\n",
        "for sentence in data.split('\\n'):\n",
        "  tokenized_sentence = tokenizer.texts_to_sequences([sentence])[0]\n",
        "  for i in range(1, len(tokenized_sentence)):\n",
        "    input_sequences.append(tokenized_sentence[:i+1])"
      ],
      "metadata": {
        "id": "h7ok9SoEgeuw"
      },
      "execution_count": 8,
      "outputs": []
    },
    {
      "cell_type": "code",
      "source": [
        "input_sequences"
      ],
      "metadata": {
        "colab": {
          "base_uri": "https://localhost:8080/"
        },
        "id": "lxaNrXPPh6dC",
        "outputId": "e60c7858-a0e3-4bd8-b139-aaec53c4b957"
      },
      "execution_count": 9,
      "outputs": [
        {
          "output_type": "execute_result",
          "data": {
            "text/plain": [
              "[[9, 10],\n",
              " [9, 10, 17],\n",
              " [9, 10, 17, 39],\n",
              " [40, 41],\n",
              " [1, 42],\n",
              " [1, 42, 11],\n",
              " [1, 42, 11, 4],\n",
              " [43, 44],\n",
              " [18, 19],\n",
              " [18, 19, 45],\n",
              " [18, 19, 45, 5],\n",
              " [46, 2],\n",
              " [12, 47],\n",
              " [20, 49],\n",
              " [20, 49, 50],\n",
              " [51, 7],\n",
              " [51, 7, 52],\n",
              " [51, 7, 52, 53],\n",
              " [3, 21],\n",
              " [6, 54],\n",
              " [9, 22],\n",
              " [9, 22, 14],\n",
              " [9, 22, 14, 6],\n",
              " [55, 56],\n",
              " [55, 56, 15],\n",
              " [23, 18],\n",
              " [23, 18, 19],\n",
              " [6, 57],\n",
              " [6, 57, 4],\n",
              " [58, 2],\n",
              " [6, 59],\n",
              " [20, 24],\n",
              " [20, 24, 25],\n",
              " [20, 24, 25, 4],\n",
              " [6, 61],\n",
              " [6, 61, 16],\n",
              " [62, 2],\n",
              " [62, 2, 26],\n",
              " [9, 27],\n",
              " [9, 27, 63],\n",
              " [64, 5],\n",
              " [65, 1],\n",
              " [65, 1, 66],\n",
              " [67, 68],\n",
              " [28, 29],\n",
              " [28, 29, 69],\n",
              " [70, 30],\n",
              " [70, 30, 71],\n",
              " [72, 2],\n",
              " [72, 2, 73],\n",
              " [72, 2, 73, 74],\n",
              " [1, 75],\n",
              " [1, 75, 76],\n",
              " [1, 75, 76, 7],\n",
              " [77, 3],\n",
              " [77, 3, 5],\n",
              " [77, 3, 5, 78],\n",
              " [80, 81],\n",
              " [80, 81, 31],\n",
              " [80, 81, 31, 82],\n",
              " [80, 81, 31, 82, 83],\n",
              " [84, 15],\n",
              " [84, 15, 85],\n",
              " [12, 86],\n",
              " [87, 4],\n",
              " [87, 4, 32],\n",
              " [87, 4, 32, 11],\n",
              " [10, 17],\n",
              " [10, 17, 21],\n",
              " [10, 17, 21, 25],\n",
              " [10, 17, 21, 25, 4],\n",
              " [10, 17, 21, 25, 4, 88],\n",
              " [10, 17, 21, 25, 4, 88, 3],\n",
              " [89, 90],\n",
              " [22, 14],\n",
              " [22, 14, 92],\n",
              " [93, 33],\n",
              " [93, 33, 34],\n",
              " [93, 33, 34, 94],\n",
              " [93, 33, 34, 94, 8],\n",
              " [3, 95],\n",
              " [3, 95, 2],\n",
              " [3, 95, 2, 35],\n",
              " [11, 96],\n",
              " [11, 96, 32],\n",
              " [97, 1],\n",
              " [97, 1, 98],\n",
              " [97, 1, 98, 99],\n",
              " [36, 37],\n",
              " [36, 37, 100],\n",
              " [27, 101],\n",
              " [27, 101, 30],\n",
              " [102, 13],\n",
              " [102, 13, 3],\n",
              " [102, 13, 3, 103],\n",
              " [102, 13, 3, 103, 1],\n",
              " [104, 37],\n",
              " [104, 37, 105],\n",
              " [104, 37, 105, 106],\n",
              " [16, 26],\n",
              " [16, 26, 107],\n",
              " [24, 108],\n",
              " [24, 108, 109],\n",
              " [1, 34],\n",
              " [1, 34, 5],\n",
              " [1, 34, 5, 23],\n",
              " [1, 34, 5, 23, 15],\n",
              " [110, 36],\n",
              " [110, 36, 33],\n",
              " [35, 111],\n",
              " [112, 14],\n",
              " [112, 14, 113],\n",
              " [112, 14, 113, 8],\n",
              " [112, 14, 113, 8, 3],\n",
              " [114, 115],\n",
              " [114, 115, 116],\n",
              " [114, 115, 116, 117],\n",
              " [10, 28],\n",
              " [10, 28, 29],\n",
              " [10, 28, 29, 7],\n",
              " [118, 119],\n",
              " [118, 119, 120],\n",
              " [118, 119, 120, 8],\n",
              " [118, 119, 120, 8, 2],\n",
              " [121, 122],\n",
              " [121, 122, 123],\n",
              " [121, 122, 123, 16],\n",
              " [124, 125],\n",
              " [124, 125, 7]]"
            ]
          },
          "metadata": {},
          "execution_count": 9
        }
      ]
    },
    {
      "cell_type": "code",
      "source": [
        "max_len  = max([len(x) for x in input_sequences])"
      ],
      "metadata": {
        "id": "e5314V6Kh7lK"
      },
      "execution_count": 10,
      "outputs": []
    },
    {
      "cell_type": "code",
      "source": [
        "from tensorflow.keras.preprocessing.sequence import pad_sequences\n",
        "padded_input_sequences = pad_sequences(input_sequences, maxlen=max_len, padding='pre')"
      ],
      "metadata": {
        "id": "hJJ2W3njiQuS"
      },
      "execution_count": 11,
      "outputs": []
    },
    {
      "cell_type": "code",
      "source": [
        "padded_input_sequences"
      ],
      "metadata": {
        "colab": {
          "base_uri": "https://localhost:8080/"
        },
        "id": "B_U38ZwFijH1",
        "outputId": "f0d021ff-2a4c-4569-e247-9e82a1d6f6ca"
      },
      "execution_count": 12,
      "outputs": [
        {
          "output_type": "execute_result",
          "data": {
            "text/plain": [
              "array([[  0,   0,   0,   0,   0,   9,  10],\n",
              "       [  0,   0,   0,   0,   9,  10,  17],\n",
              "       [  0,   0,   0,   9,  10,  17,  39],\n",
              "       [  0,   0,   0,   0,   0,  40,  41],\n",
              "       [  0,   0,   0,   0,   0,   1,  42],\n",
              "       [  0,   0,   0,   0,   1,  42,  11],\n",
              "       [  0,   0,   0,   1,  42,  11,   4],\n",
              "       [  0,   0,   0,   0,   0,  43,  44],\n",
              "       [  0,   0,   0,   0,   0,  18,  19],\n",
              "       [  0,   0,   0,   0,  18,  19,  45],\n",
              "       [  0,   0,   0,  18,  19,  45,   5],\n",
              "       [  0,   0,   0,   0,   0,  46,   2],\n",
              "       [  0,   0,   0,   0,   0,  12,  47],\n",
              "       [  0,   0,   0,   0,   0,  20,  49],\n",
              "       [  0,   0,   0,   0,  20,  49,  50],\n",
              "       [  0,   0,   0,   0,   0,  51,   7],\n",
              "       [  0,   0,   0,   0,  51,   7,  52],\n",
              "       [  0,   0,   0,  51,   7,  52,  53],\n",
              "       [  0,   0,   0,   0,   0,   3,  21],\n",
              "       [  0,   0,   0,   0,   0,   6,  54],\n",
              "       [  0,   0,   0,   0,   0,   9,  22],\n",
              "       [  0,   0,   0,   0,   9,  22,  14],\n",
              "       [  0,   0,   0,   9,  22,  14,   6],\n",
              "       [  0,   0,   0,   0,   0,  55,  56],\n",
              "       [  0,   0,   0,   0,  55,  56,  15],\n",
              "       [  0,   0,   0,   0,   0,  23,  18],\n",
              "       [  0,   0,   0,   0,  23,  18,  19],\n",
              "       [  0,   0,   0,   0,   0,   6,  57],\n",
              "       [  0,   0,   0,   0,   6,  57,   4],\n",
              "       [  0,   0,   0,   0,   0,  58,   2],\n",
              "       [  0,   0,   0,   0,   0,   6,  59],\n",
              "       [  0,   0,   0,   0,   0,  20,  24],\n",
              "       [  0,   0,   0,   0,  20,  24,  25],\n",
              "       [  0,   0,   0,  20,  24,  25,   4],\n",
              "       [  0,   0,   0,   0,   0,   6,  61],\n",
              "       [  0,   0,   0,   0,   6,  61,  16],\n",
              "       [  0,   0,   0,   0,   0,  62,   2],\n",
              "       [  0,   0,   0,   0,  62,   2,  26],\n",
              "       [  0,   0,   0,   0,   0,   9,  27],\n",
              "       [  0,   0,   0,   0,   9,  27,  63],\n",
              "       [  0,   0,   0,   0,   0,  64,   5],\n",
              "       [  0,   0,   0,   0,   0,  65,   1],\n",
              "       [  0,   0,   0,   0,  65,   1,  66],\n",
              "       [  0,   0,   0,   0,   0,  67,  68],\n",
              "       [  0,   0,   0,   0,   0,  28,  29],\n",
              "       [  0,   0,   0,   0,  28,  29,  69],\n",
              "       [  0,   0,   0,   0,   0,  70,  30],\n",
              "       [  0,   0,   0,   0,  70,  30,  71],\n",
              "       [  0,   0,   0,   0,   0,  72,   2],\n",
              "       [  0,   0,   0,   0,  72,   2,  73],\n",
              "       [  0,   0,   0,  72,   2,  73,  74],\n",
              "       [  0,   0,   0,   0,   0,   1,  75],\n",
              "       [  0,   0,   0,   0,   1,  75,  76],\n",
              "       [  0,   0,   0,   1,  75,  76,   7],\n",
              "       [  0,   0,   0,   0,   0,  77,   3],\n",
              "       [  0,   0,   0,   0,  77,   3,   5],\n",
              "       [  0,   0,   0,  77,   3,   5,  78],\n",
              "       [  0,   0,   0,   0,   0,  80,  81],\n",
              "       [  0,   0,   0,   0,  80,  81,  31],\n",
              "       [  0,   0,   0,  80,  81,  31,  82],\n",
              "       [  0,   0,  80,  81,  31,  82,  83],\n",
              "       [  0,   0,   0,   0,   0,  84,  15],\n",
              "       [  0,   0,   0,   0,  84,  15,  85],\n",
              "       [  0,   0,   0,   0,   0,  12,  86],\n",
              "       [  0,   0,   0,   0,   0,  87,   4],\n",
              "       [  0,   0,   0,   0,  87,   4,  32],\n",
              "       [  0,   0,   0,  87,   4,  32,  11],\n",
              "       [  0,   0,   0,   0,   0,  10,  17],\n",
              "       [  0,   0,   0,   0,  10,  17,  21],\n",
              "       [  0,   0,   0,  10,  17,  21,  25],\n",
              "       [  0,   0,  10,  17,  21,  25,   4],\n",
              "       [  0,  10,  17,  21,  25,   4,  88],\n",
              "       [ 10,  17,  21,  25,   4,  88,   3],\n",
              "       [  0,   0,   0,   0,   0,  89,  90],\n",
              "       [  0,   0,   0,   0,   0,  22,  14],\n",
              "       [  0,   0,   0,   0,  22,  14,  92],\n",
              "       [  0,   0,   0,   0,   0,  93,  33],\n",
              "       [  0,   0,   0,   0,  93,  33,  34],\n",
              "       [  0,   0,   0,  93,  33,  34,  94],\n",
              "       [  0,   0,  93,  33,  34,  94,   8],\n",
              "       [  0,   0,   0,   0,   0,   3,  95],\n",
              "       [  0,   0,   0,   0,   3,  95,   2],\n",
              "       [  0,   0,   0,   3,  95,   2,  35],\n",
              "       [  0,   0,   0,   0,   0,  11,  96],\n",
              "       [  0,   0,   0,   0,  11,  96,  32],\n",
              "       [  0,   0,   0,   0,   0,  97,   1],\n",
              "       [  0,   0,   0,   0,  97,   1,  98],\n",
              "       [  0,   0,   0,  97,   1,  98,  99],\n",
              "       [  0,   0,   0,   0,   0,  36,  37],\n",
              "       [  0,   0,   0,   0,  36,  37, 100],\n",
              "       [  0,   0,   0,   0,   0,  27, 101],\n",
              "       [  0,   0,   0,   0,  27, 101,  30],\n",
              "       [  0,   0,   0,   0,   0, 102,  13],\n",
              "       [  0,   0,   0,   0, 102,  13,   3],\n",
              "       [  0,   0,   0, 102,  13,   3, 103],\n",
              "       [  0,   0, 102,  13,   3, 103,   1],\n",
              "       [  0,   0,   0,   0,   0, 104,  37],\n",
              "       [  0,   0,   0,   0, 104,  37, 105],\n",
              "       [  0,   0,   0, 104,  37, 105, 106],\n",
              "       [  0,   0,   0,   0,   0,  16,  26],\n",
              "       [  0,   0,   0,   0,  16,  26, 107],\n",
              "       [  0,   0,   0,   0,   0,  24, 108],\n",
              "       [  0,   0,   0,   0,  24, 108, 109],\n",
              "       [  0,   0,   0,   0,   0,   1,  34],\n",
              "       [  0,   0,   0,   0,   1,  34,   5],\n",
              "       [  0,   0,   0,   1,  34,   5,  23],\n",
              "       [  0,   0,   1,  34,   5,  23,  15],\n",
              "       [  0,   0,   0,   0,   0, 110,  36],\n",
              "       [  0,   0,   0,   0, 110,  36,  33],\n",
              "       [  0,   0,   0,   0,   0,  35, 111],\n",
              "       [  0,   0,   0,   0,   0, 112,  14],\n",
              "       [  0,   0,   0,   0, 112,  14, 113],\n",
              "       [  0,   0,   0, 112,  14, 113,   8],\n",
              "       [  0,   0, 112,  14, 113,   8,   3],\n",
              "       [  0,   0,   0,   0,   0, 114, 115],\n",
              "       [  0,   0,   0,   0, 114, 115, 116],\n",
              "       [  0,   0,   0, 114, 115, 116, 117],\n",
              "       [  0,   0,   0,   0,   0,  10,  28],\n",
              "       [  0,   0,   0,   0,  10,  28,  29],\n",
              "       [  0,   0,   0,  10,  28,  29,   7],\n",
              "       [  0,   0,   0,   0,   0, 118, 119],\n",
              "       [  0,   0,   0,   0, 118, 119, 120],\n",
              "       [  0,   0,   0, 118, 119, 120,   8],\n",
              "       [  0,   0, 118, 119, 120,   8,   2],\n",
              "       [  0,   0,   0,   0,   0, 121, 122],\n",
              "       [  0,   0,   0,   0, 121, 122, 123],\n",
              "       [  0,   0,   0, 121, 122, 123,  16],\n",
              "       [  0,   0,   0,   0,   0, 124, 125],\n",
              "       [  0,   0,   0,   0, 124, 125,   7]], dtype=int32)"
            ]
          },
          "metadata": {},
          "execution_count": 12
        }
      ]
    },
    {
      "cell_type": "code",
      "source": [
        "X = padded_input_sequences[:, :-1]\n",
        "X"
      ],
      "metadata": {
        "colab": {
          "base_uri": "https://localhost:8080/"
        },
        "id": "4yGaNlfeis8J",
        "outputId": "c2250b6e-da0a-4ee8-c02c-cf79eb74b738"
      },
      "execution_count": 13,
      "outputs": [
        {
          "output_type": "execute_result",
          "data": {
            "text/plain": [
              "array([[  0,   0,   0,   0,   0,   9],\n",
              "       [  0,   0,   0,   0,   9,  10],\n",
              "       [  0,   0,   0,   9,  10,  17],\n",
              "       [  0,   0,   0,   0,   0,  40],\n",
              "       [  0,   0,   0,   0,   0,   1],\n",
              "       [  0,   0,   0,   0,   1,  42],\n",
              "       [  0,   0,   0,   1,  42,  11],\n",
              "       [  0,   0,   0,   0,   0,  43],\n",
              "       [  0,   0,   0,   0,   0,  18],\n",
              "       [  0,   0,   0,   0,  18,  19],\n",
              "       [  0,   0,   0,  18,  19,  45],\n",
              "       [  0,   0,   0,   0,   0,  46],\n",
              "       [  0,   0,   0,   0,   0,  12],\n",
              "       [  0,   0,   0,   0,   0,  20],\n",
              "       [  0,   0,   0,   0,  20,  49],\n",
              "       [  0,   0,   0,   0,   0,  51],\n",
              "       [  0,   0,   0,   0,  51,   7],\n",
              "       [  0,   0,   0,  51,   7,  52],\n",
              "       [  0,   0,   0,   0,   0,   3],\n",
              "       [  0,   0,   0,   0,   0,   6],\n",
              "       [  0,   0,   0,   0,   0,   9],\n",
              "       [  0,   0,   0,   0,   9,  22],\n",
              "       [  0,   0,   0,   9,  22,  14],\n",
              "       [  0,   0,   0,   0,   0,  55],\n",
              "       [  0,   0,   0,   0,  55,  56],\n",
              "       [  0,   0,   0,   0,   0,  23],\n",
              "       [  0,   0,   0,   0,  23,  18],\n",
              "       [  0,   0,   0,   0,   0,   6],\n",
              "       [  0,   0,   0,   0,   6,  57],\n",
              "       [  0,   0,   0,   0,   0,  58],\n",
              "       [  0,   0,   0,   0,   0,   6],\n",
              "       [  0,   0,   0,   0,   0,  20],\n",
              "       [  0,   0,   0,   0,  20,  24],\n",
              "       [  0,   0,   0,  20,  24,  25],\n",
              "       [  0,   0,   0,   0,   0,   6],\n",
              "       [  0,   0,   0,   0,   6,  61],\n",
              "       [  0,   0,   0,   0,   0,  62],\n",
              "       [  0,   0,   0,   0,  62,   2],\n",
              "       [  0,   0,   0,   0,   0,   9],\n",
              "       [  0,   0,   0,   0,   9,  27],\n",
              "       [  0,   0,   0,   0,   0,  64],\n",
              "       [  0,   0,   0,   0,   0,  65],\n",
              "       [  0,   0,   0,   0,  65,   1],\n",
              "       [  0,   0,   0,   0,   0,  67],\n",
              "       [  0,   0,   0,   0,   0,  28],\n",
              "       [  0,   0,   0,   0,  28,  29],\n",
              "       [  0,   0,   0,   0,   0,  70],\n",
              "       [  0,   0,   0,   0,  70,  30],\n",
              "       [  0,   0,   0,   0,   0,  72],\n",
              "       [  0,   0,   0,   0,  72,   2],\n",
              "       [  0,   0,   0,  72,   2,  73],\n",
              "       [  0,   0,   0,   0,   0,   1],\n",
              "       [  0,   0,   0,   0,   1,  75],\n",
              "       [  0,   0,   0,   1,  75,  76],\n",
              "       [  0,   0,   0,   0,   0,  77],\n",
              "       [  0,   0,   0,   0,  77,   3],\n",
              "       [  0,   0,   0,  77,   3,   5],\n",
              "       [  0,   0,   0,   0,   0,  80],\n",
              "       [  0,   0,   0,   0,  80,  81],\n",
              "       [  0,   0,   0,  80,  81,  31],\n",
              "       [  0,   0,  80,  81,  31,  82],\n",
              "       [  0,   0,   0,   0,   0,  84],\n",
              "       [  0,   0,   0,   0,  84,  15],\n",
              "       [  0,   0,   0,   0,   0,  12],\n",
              "       [  0,   0,   0,   0,   0,  87],\n",
              "       [  0,   0,   0,   0,  87,   4],\n",
              "       [  0,   0,   0,  87,   4,  32],\n",
              "       [  0,   0,   0,   0,   0,  10],\n",
              "       [  0,   0,   0,   0,  10,  17],\n",
              "       [  0,   0,   0,  10,  17,  21],\n",
              "       [  0,   0,  10,  17,  21,  25],\n",
              "       [  0,  10,  17,  21,  25,   4],\n",
              "       [ 10,  17,  21,  25,   4,  88],\n",
              "       [  0,   0,   0,   0,   0,  89],\n",
              "       [  0,   0,   0,   0,   0,  22],\n",
              "       [  0,   0,   0,   0,  22,  14],\n",
              "       [  0,   0,   0,   0,   0,  93],\n",
              "       [  0,   0,   0,   0,  93,  33],\n",
              "       [  0,   0,   0,  93,  33,  34],\n",
              "       [  0,   0,  93,  33,  34,  94],\n",
              "       [  0,   0,   0,   0,   0,   3],\n",
              "       [  0,   0,   0,   0,   3,  95],\n",
              "       [  0,   0,   0,   3,  95,   2],\n",
              "       [  0,   0,   0,   0,   0,  11],\n",
              "       [  0,   0,   0,   0,  11,  96],\n",
              "       [  0,   0,   0,   0,   0,  97],\n",
              "       [  0,   0,   0,   0,  97,   1],\n",
              "       [  0,   0,   0,  97,   1,  98],\n",
              "       [  0,   0,   0,   0,   0,  36],\n",
              "       [  0,   0,   0,   0,  36,  37],\n",
              "       [  0,   0,   0,   0,   0,  27],\n",
              "       [  0,   0,   0,   0,  27, 101],\n",
              "       [  0,   0,   0,   0,   0, 102],\n",
              "       [  0,   0,   0,   0, 102,  13],\n",
              "       [  0,   0,   0, 102,  13,   3],\n",
              "       [  0,   0, 102,  13,   3, 103],\n",
              "       [  0,   0,   0,   0,   0, 104],\n",
              "       [  0,   0,   0,   0, 104,  37],\n",
              "       [  0,   0,   0, 104,  37, 105],\n",
              "       [  0,   0,   0,   0,   0,  16],\n",
              "       [  0,   0,   0,   0,  16,  26],\n",
              "       [  0,   0,   0,   0,   0,  24],\n",
              "       [  0,   0,   0,   0,  24, 108],\n",
              "       [  0,   0,   0,   0,   0,   1],\n",
              "       [  0,   0,   0,   0,   1,  34],\n",
              "       [  0,   0,   0,   1,  34,   5],\n",
              "       [  0,   0,   1,  34,   5,  23],\n",
              "       [  0,   0,   0,   0,   0, 110],\n",
              "       [  0,   0,   0,   0, 110,  36],\n",
              "       [  0,   0,   0,   0,   0,  35],\n",
              "       [  0,   0,   0,   0,   0, 112],\n",
              "       [  0,   0,   0,   0, 112,  14],\n",
              "       [  0,   0,   0, 112,  14, 113],\n",
              "       [  0,   0, 112,  14, 113,   8],\n",
              "       [  0,   0,   0,   0,   0, 114],\n",
              "       [  0,   0,   0,   0, 114, 115],\n",
              "       [  0,   0,   0, 114, 115, 116],\n",
              "       [  0,   0,   0,   0,   0,  10],\n",
              "       [  0,   0,   0,   0,  10,  28],\n",
              "       [  0,   0,   0,  10,  28,  29],\n",
              "       [  0,   0,   0,   0,   0, 118],\n",
              "       [  0,   0,   0,   0, 118, 119],\n",
              "       [  0,   0,   0, 118, 119, 120],\n",
              "       [  0,   0, 118, 119, 120,   8],\n",
              "       [  0,   0,   0,   0,   0, 121],\n",
              "       [  0,   0,   0,   0, 121, 122],\n",
              "       [  0,   0,   0, 121, 122, 123],\n",
              "       [  0,   0,   0,   0,   0, 124],\n",
              "       [  0,   0,   0,   0, 124, 125]], dtype=int32)"
            ]
          },
          "metadata": {},
          "execution_count": 13
        }
      ]
    },
    {
      "cell_type": "code",
      "source": [
        "y = padded_input_sequences[:, -1]\n",
        "y"
      ],
      "metadata": {
        "colab": {
          "base_uri": "https://localhost:8080/"
        },
        "id": "aGNS06gmi0M3",
        "outputId": "13f0e729-2bf0-4358-9fa0-9b828fe020d3"
      },
      "execution_count": 14,
      "outputs": [
        {
          "output_type": "execute_result",
          "data": {
            "text/plain": [
              "array([ 10,  17,  39,  41,  42,  11,   4,  44,  19,  45,   5,   2,  47,\n",
              "        49,  50,   7,  52,  53,  21,  54,  22,  14,   6,  56,  15,  18,\n",
              "        19,  57,   4,   2,  59,  24,  25,   4,  61,  16,   2,  26,  27,\n",
              "        63,   5,   1,  66,  68,  29,  69,  30,  71,   2,  73,  74,  75,\n",
              "        76,   7,   3,   5,  78,  81,  31,  82,  83,  15,  85,  86,   4,\n",
              "        32,  11,  17,  21,  25,   4,  88,   3,  90,  14,  92,  33,  34,\n",
              "        94,   8,  95,   2,  35,  96,  32,   1,  98,  99,  37, 100, 101,\n",
              "        30,  13,   3, 103,   1,  37, 105, 106,  26, 107, 108, 109,  34,\n",
              "         5,  23,  15,  36,  33, 111,  14, 113,   8,   3, 115, 116, 117,\n",
              "        28,  29,   7, 119, 120,   8,   2, 122, 123,  16, 125,   7],\n",
              "      dtype=int32)"
            ]
          },
          "metadata": {},
          "execution_count": 14
        }
      ]
    },
    {
      "cell_type": "code",
      "source": [
        "X.shape"
      ],
      "metadata": {
        "colab": {
          "base_uri": "https://localhost:8080/"
        },
        "id": "FiT0SPU3i5ay",
        "outputId": "5ac231d0-5131-445c-f97d-973a561e8859"
      },
      "execution_count": 15,
      "outputs": [
        {
          "output_type": "execute_result",
          "data": {
            "text/plain": [
              "(129, 6)"
            ]
          },
          "metadata": {},
          "execution_count": 15
        }
      ]
    },
    {
      "cell_type": "code",
      "source": [
        "y.shape"
      ],
      "metadata": {
        "colab": {
          "base_uri": "https://localhost:8080/"
        },
        "id": "M5jv2gv3kpU3",
        "outputId": "f8e249a0-ff19-4196-cb57-6036bb6b198d"
      },
      "execution_count": 16,
      "outputs": [
        {
          "output_type": "execute_result",
          "data": {
            "text/plain": [
              "(129,)"
            ]
          },
          "metadata": {},
          "execution_count": 16
        }
      ]
    },
    {
      "cell_type": "code",
      "source": [
        "len(tokenizer.word_index)"
      ],
      "metadata": {
        "colab": {
          "base_uri": "https://localhost:8080/"
        },
        "id": "ZrJ4Pt3Vk7sE",
        "outputId": "6f9f42ce-9961-413f-d089-8c1ec70ee9ce"
      },
      "execution_count": 17,
      "outputs": [
        {
          "output_type": "execute_result",
          "data": {
            "text/plain": [
              "126"
            ]
          },
          "metadata": {},
          "execution_count": 17
        }
      ]
    },
    {
      "cell_type": "code",
      "source": [
        "from tensorflow.keras.utils import to_categorical\n",
        "y = to_categorical(y, num_classes=len(tokenizer.word_index)+1)"
      ],
      "metadata": {
        "id": "6HL8W88ikr-u"
      },
      "execution_count": 18,
      "outputs": []
    },
    {
      "cell_type": "code",
      "source": [
        "y.shape"
      ],
      "metadata": {
        "colab": {
          "base_uri": "https://localhost:8080/"
        },
        "id": "AsNlWlM6lLDz",
        "outputId": "33991174-4ada-44a9-b3fe-a721f9c17b50"
      },
      "execution_count": 19,
      "outputs": [
        {
          "output_type": "execute_result",
          "data": {
            "text/plain": [
              "(129, 127)"
            ]
          },
          "metadata": {},
          "execution_count": 19
        }
      ]
    },
    {
      "cell_type": "code",
      "source": [
        "y"
      ],
      "metadata": {
        "colab": {
          "base_uri": "https://localhost:8080/"
        },
        "id": "OE8U4yCYlM0k",
        "outputId": "5bc1336d-6b3d-4aad-cc03-26275feb7851"
      },
      "execution_count": 20,
      "outputs": [
        {
          "output_type": "execute_result",
          "data": {
            "text/plain": [
              "array([[0., 0., 0., ..., 0., 0., 0.],\n",
              "       [0., 0., 0., ..., 0., 0., 0.],\n",
              "       [0., 0., 0., ..., 0., 0., 0.],\n",
              "       ...,\n",
              "       [0., 0., 0., ..., 0., 0., 0.],\n",
              "       [0., 0., 0., ..., 0., 1., 0.],\n",
              "       [0., 0., 0., ..., 0., 0., 0.]])"
            ]
          },
          "metadata": {},
          "execution_count": 20
        }
      ]
    },
    {
      "cell_type": "code",
      "source": [
        "from tensorflow.keras.models import Sequential\n",
        "from tensorflow.keras.layers import Embedding, LSTM, Dense"
      ],
      "metadata": {
        "id": "GiklBWy7lP8a"
      },
      "execution_count": 21,
      "outputs": []
    },
    {
      "cell_type": "code",
      "source": [
        "model = Sequential()\n",
        "model.add(Embedding(input_dim=len(tokenizer.word_index)+1, output_dim=100, input_length=max_len))\n",
        "model.add(LSTM(150))\n",
        "model.add(Dense(len(tokenizer.word_index)+1, activation='softmax'))\n",
        "model.compile(loss='categorical_crossentropy', optimizer='adam', metrics=['accuracy'])\n"
      ],
      "metadata": {
        "colab": {
          "base_uri": "https://localhost:8080/"
        },
        "id": "17qHyi5elv5D",
        "outputId": "babd7c64-29ff-42b3-e543-5c3f4e4fe112"
      },
      "execution_count": 32,
      "outputs": [
        {
          "output_type": "stream",
          "name": "stderr",
          "text": [
            "/usr/local/lib/python3.10/dist-packages/keras/src/layers/core/embedding.py:90: UserWarning: Argument `input_length` is deprecated. Just remove it.\n",
            "  warnings.warn(\n"
          ]
        }
      ]
    },
    {
      "cell_type": "code",
      "source": [
        "model.build(input_shape=(None, max_len))\n",
        "model.summary()"
      ],
      "metadata": {
        "colab": {
          "base_uri": "https://localhost:8080/",
          "height": 237
        },
        "id": "LmmvBi1MoLpE",
        "outputId": "bf24cb91-4b52-4409-ef0f-a4b36172c20f"
      },
      "execution_count": 33,
      "outputs": [
        {
          "output_type": "display_data",
          "data": {
            "text/plain": [
              "\u001b[1mModel: \"sequential_3\"\u001b[0m\n"
            ],
            "text/html": [
              "<pre style=\"white-space:pre;overflow-x:auto;line-height:normal;font-family:Menlo,'DejaVu Sans Mono',consolas,'Courier New',monospace\"><span style=\"font-weight: bold\">Model: \"sequential_3\"</span>\n",
              "</pre>\n"
            ]
          },
          "metadata": {}
        },
        {
          "output_type": "display_data",
          "data": {
            "text/plain": [
              "┏━━━━━━━━━━━━━━━━━━━━━━━━━━━━━━━━━━━━━━┳━━━━━━━━━━━━━━━━━━━━━━━━━━━━━┳━━━━━━━━━━━━━━━━━┓\n",
              "┃\u001b[1m \u001b[0m\u001b[1mLayer (type)                        \u001b[0m\u001b[1m \u001b[0m┃\u001b[1m \u001b[0m\u001b[1mOutput Shape               \u001b[0m\u001b[1m \u001b[0m┃\u001b[1m \u001b[0m\u001b[1m        Param #\u001b[0m\u001b[1m \u001b[0m┃\n",
              "┡━━━━━━━━━━━━━━━━━━━━━━━━━━━━━━━━━━━━━━╇━━━━━━━━━━━━━━━━━━━━━━━━━━━━━╇━━━━━━━━━━━━━━━━━┩\n",
              "│ embedding_3 (\u001b[38;5;33mEmbedding\u001b[0m)              │ (\u001b[38;5;45mNone\u001b[0m, \u001b[38;5;34m7\u001b[0m, \u001b[38;5;34m100\u001b[0m)              │          \u001b[38;5;34m12,700\u001b[0m │\n",
              "├──────────────────────────────────────┼─────────────────────────────┼─────────────────┤\n",
              "│ lstm_3 (\u001b[38;5;33mLSTM\u001b[0m)                        │ (\u001b[38;5;45mNone\u001b[0m, \u001b[38;5;34m150\u001b[0m)                 │         \u001b[38;5;34m150,600\u001b[0m │\n",
              "├──────────────────────────────────────┼─────────────────────────────┼─────────────────┤\n",
              "│ dense_3 (\u001b[38;5;33mDense\u001b[0m)                      │ (\u001b[38;5;45mNone\u001b[0m, \u001b[38;5;34m127\u001b[0m)                 │          \u001b[38;5;34m19,177\u001b[0m │\n",
              "└──────────────────────────────────────┴─────────────────────────────┴─────────────────┘\n"
            ],
            "text/html": [
              "<pre style=\"white-space:pre;overflow-x:auto;line-height:normal;font-family:Menlo,'DejaVu Sans Mono',consolas,'Courier New',monospace\">┏━━━━━━━━━━━━━━━━━━━━━━━━━━━━━━━━━━━━━━┳━━━━━━━━━━━━━━━━━━━━━━━━━━━━━┳━━━━━━━━━━━━━━━━━┓\n",
              "┃<span style=\"font-weight: bold\"> Layer (type)                         </span>┃<span style=\"font-weight: bold\"> Output Shape                </span>┃<span style=\"font-weight: bold\">         Param # </span>┃\n",
              "┡━━━━━━━━━━━━━━━━━━━━━━━━━━━━━━━━━━━━━━╇━━━━━━━━━━━━━━━━━━━━━━━━━━━━━╇━━━━━━━━━━━━━━━━━┩\n",
              "│ embedding_3 (<span style=\"color: #0087ff; text-decoration-color: #0087ff\">Embedding</span>)              │ (<span style=\"color: #00d7ff; text-decoration-color: #00d7ff\">None</span>, <span style=\"color: #00af00; text-decoration-color: #00af00\">7</span>, <span style=\"color: #00af00; text-decoration-color: #00af00\">100</span>)              │          <span style=\"color: #00af00; text-decoration-color: #00af00\">12,700</span> │\n",
              "├──────────────────────────────────────┼─────────────────────────────┼─────────────────┤\n",
              "│ lstm_3 (<span style=\"color: #0087ff; text-decoration-color: #0087ff\">LSTM</span>)                        │ (<span style=\"color: #00d7ff; text-decoration-color: #00d7ff\">None</span>, <span style=\"color: #00af00; text-decoration-color: #00af00\">150</span>)                 │         <span style=\"color: #00af00; text-decoration-color: #00af00\">150,600</span> │\n",
              "├──────────────────────────────────────┼─────────────────────────────┼─────────────────┤\n",
              "│ dense_3 (<span style=\"color: #0087ff; text-decoration-color: #0087ff\">Dense</span>)                      │ (<span style=\"color: #00d7ff; text-decoration-color: #00d7ff\">None</span>, <span style=\"color: #00af00; text-decoration-color: #00af00\">127</span>)                 │          <span style=\"color: #00af00; text-decoration-color: #00af00\">19,177</span> │\n",
              "└──────────────────────────────────────┴─────────────────────────────┴─────────────────┘\n",
              "</pre>\n"
            ]
          },
          "metadata": {}
        },
        {
          "output_type": "display_data",
          "data": {
            "text/plain": [
              "\u001b[1m Total params: \u001b[0m\u001b[38;5;34m182,477\u001b[0m (712.80 KB)\n"
            ],
            "text/html": [
              "<pre style=\"white-space:pre;overflow-x:auto;line-height:normal;font-family:Menlo,'DejaVu Sans Mono',consolas,'Courier New',monospace\"><span style=\"font-weight: bold\"> Total params: </span><span style=\"color: #00af00; text-decoration-color: #00af00\">182,477</span> (712.80 KB)\n",
              "</pre>\n"
            ]
          },
          "metadata": {}
        },
        {
          "output_type": "display_data",
          "data": {
            "text/plain": [
              "\u001b[1m Trainable params: \u001b[0m\u001b[38;5;34m182,477\u001b[0m (712.80 KB)\n"
            ],
            "text/html": [
              "<pre style=\"white-space:pre;overflow-x:auto;line-height:normal;font-family:Menlo,'DejaVu Sans Mono',consolas,'Courier New',monospace\"><span style=\"font-weight: bold\"> Trainable params: </span><span style=\"color: #00af00; text-decoration-color: #00af00\">182,477</span> (712.80 KB)\n",
              "</pre>\n"
            ]
          },
          "metadata": {}
        },
        {
          "output_type": "display_data",
          "data": {
            "text/plain": [
              "\u001b[1m Non-trainable params: \u001b[0m\u001b[38;5;34m0\u001b[0m (0.00 B)\n"
            ],
            "text/html": [
              "<pre style=\"white-space:pre;overflow-x:auto;line-height:normal;font-family:Menlo,'DejaVu Sans Mono',consolas,'Courier New',monospace\"><span style=\"font-weight: bold\"> Non-trainable params: </span><span style=\"color: #00af00; text-decoration-color: #00af00\">0</span> (0.00 B)\n",
              "</pre>\n"
            ]
          },
          "metadata": {}
        }
      ]
    },
    {
      "cell_type": "code",
      "source": [
        "history = model.fit(X, y, epochs=100, verbose=1)"
      ],
      "metadata": {
        "colab": {
          "base_uri": "https://localhost:8080/"
        },
        "id": "9KHpAwOvoM0e",
        "outputId": "273e9acc-92d5-4ecb-d0b8-96a5d824d6eb"
      },
      "execution_count": 34,
      "outputs": [
        {
          "output_type": "stream",
          "name": "stdout",
          "text": [
            "Epoch 1/100\n",
            "\u001b[1m5/5\u001b[0m \u001b[32m━━━━━━━━━━━━━━━━━━━━\u001b[0m\u001b[37m\u001b[0m \u001b[1m4s\u001b[0m 22ms/step - accuracy: 0.0217 - loss: 4.8431\n",
            "Epoch 2/100\n",
            "\u001b[1m5/5\u001b[0m \u001b[32m━━━━━━━━━━━━━━━━━━━━\u001b[0m\u001b[37m\u001b[0m \u001b[1m0s\u001b[0m 5ms/step - accuracy: 0.0299 - loss: 4.8239  \n",
            "Epoch 3/100\n",
            "\u001b[1m5/5\u001b[0m \u001b[32m━━━━━━━━━━━━━━━━━━━━\u001b[0m\u001b[37m\u001b[0m \u001b[1m0s\u001b[0m 7ms/step - accuracy: 0.0359 - loss: 4.8042     \n",
            "Epoch 4/100\n",
            "\u001b[1m5/5\u001b[0m \u001b[32m━━━━━━━━━━━━━━━━━━━━\u001b[0m\u001b[37m\u001b[0m \u001b[1m0s\u001b[0m 5ms/step - accuracy: 0.0311 - loss: 4.7684     \n",
            "Epoch 5/100\n",
            "\u001b[1m5/5\u001b[0m \u001b[32m━━━━━━━━━━━━━━━━━━━━\u001b[0m\u001b[37m\u001b[0m \u001b[1m0s\u001b[0m 6ms/step - accuracy: 0.0329 - loss: 4.7019     \n",
            "Epoch 6/100\n",
            "\u001b[1m5/5\u001b[0m \u001b[32m━━━━━━━━━━━━━━━━━━━━\u001b[0m\u001b[37m\u001b[0m \u001b[1m0s\u001b[0m 5ms/step - accuracy: 0.0459 - loss: 4.5828 \n",
            "Epoch 7/100\n",
            "\u001b[1m5/5\u001b[0m \u001b[32m━━━━━━━━━━━━━━━━━━━━\u001b[0m\u001b[37m\u001b[0m \u001b[1m0s\u001b[0m 5ms/step - accuracy: 0.0485 - loss: 4.5014 \n",
            "Epoch 8/100\n",
            "\u001b[1m5/5\u001b[0m \u001b[32m━━━━━━━━━━━━━━━━━━━━\u001b[0m\u001b[37m\u001b[0m \u001b[1m0s\u001b[0m 5ms/step - accuracy: 0.0502 - loss: 4.4483 \n",
            "Epoch 9/100\n",
            "\u001b[1m5/5\u001b[0m \u001b[32m━━━━━━━━━━━━━━━━━━━━\u001b[0m\u001b[37m\u001b[0m \u001b[1m0s\u001b[0m 5ms/step - accuracy: 0.0273 - loss: 4.4772 \n",
            "Epoch 10/100\n",
            "\u001b[1m5/5\u001b[0m \u001b[32m━━━━━━━━━━━━━━━━━━━━\u001b[0m\u001b[37m\u001b[0m \u001b[1m0s\u001b[0m 5ms/step - accuracy: 0.0095 - loss: 4.4582     \n",
            "Epoch 11/100\n",
            "\u001b[1m5/5\u001b[0m \u001b[32m━━━━━━━━━━━━━━━━━━━━\u001b[0m\u001b[37m\u001b[0m \u001b[1m0s\u001b[0m 5ms/step - accuracy: 0.0138 - loss: 4.3758     \n",
            "Epoch 12/100\n",
            "\u001b[1m5/5\u001b[0m \u001b[32m━━━━━━━━━━━━━━━━━━━━\u001b[0m\u001b[37m\u001b[0m \u001b[1m0s\u001b[0m 5ms/step - accuracy: 0.0403 - loss: 4.3961 \n",
            "Epoch 13/100\n",
            "\u001b[1m5/5\u001b[0m \u001b[32m━━━━━━━━━━━━━━━━━━━━\u001b[0m\u001b[37m\u001b[0m \u001b[1m0s\u001b[0m 5ms/step - accuracy: 0.0255 - loss: 4.3715 \n",
            "Epoch 14/100\n",
            "\u001b[1m5/5\u001b[0m \u001b[32m━━━━━━━━━━━━━━━━━━━━\u001b[0m\u001b[37m\u001b[0m \u001b[1m0s\u001b[0m 6ms/step - accuracy: 0.0338 - loss: 4.3405 \n",
            "Epoch 15/100\n",
            "\u001b[1m5/5\u001b[0m \u001b[32m━━━━━━━━━━━━━━━━━━━━\u001b[0m\u001b[37m\u001b[0m \u001b[1m0s\u001b[0m 6ms/step - accuracy: 0.0771 - loss: 4.3570 \n",
            "Epoch 16/100\n",
            "\u001b[1m5/5\u001b[0m \u001b[32m━━━━━━━━━━━━━━━━━━━━\u001b[0m\u001b[37m\u001b[0m \u001b[1m0s\u001b[0m 6ms/step - accuracy: 0.0619 - loss: 4.3193 \n",
            "Epoch 17/100\n",
            "\u001b[1m5/5\u001b[0m \u001b[32m━━━━━━━━━━━━━━━━━━━━\u001b[0m\u001b[37m\u001b[0m \u001b[1m0s\u001b[0m 6ms/step - accuracy: 0.0191 - loss: 4.3298 \n",
            "Epoch 18/100\n",
            "\u001b[1m5/5\u001b[0m \u001b[32m━━━━━━━━━━━━━━━━━━━━\u001b[0m\u001b[37m\u001b[0m \u001b[1m0s\u001b[0m 5ms/step - accuracy: 0.0121 - loss: 4.3332     \n",
            "Epoch 19/100\n",
            "\u001b[1m5/5\u001b[0m \u001b[32m━━━━━━━━━━━━━━━━━━━━\u001b[0m\u001b[37m\u001b[0m \u001b[1m0s\u001b[0m 5ms/step - accuracy: 0.0191 - loss: 4.2440 \n",
            "Epoch 20/100\n",
            "\u001b[1m5/5\u001b[0m \u001b[32m━━━━━━━━━━━━━━━━━━━━\u001b[0m\u001b[37m\u001b[0m \u001b[1m0s\u001b[0m 5ms/step - accuracy: 0.0428 - loss: 4.3071 \n",
            "Epoch 21/100\n",
            "\u001b[1m5/5\u001b[0m \u001b[32m━━━━━━━━━━━━━━━━━━━━\u001b[0m\u001b[37m\u001b[0m \u001b[1m0s\u001b[0m 5ms/step - accuracy: 0.1373 - loss: 4.2750 \n",
            "Epoch 22/100\n",
            "\u001b[1m5/5\u001b[0m \u001b[32m━━━━━━━━━━━━━━━━━━━━\u001b[0m\u001b[37m\u001b[0m \u001b[1m0s\u001b[0m 6ms/step - accuracy: 0.1112 - loss: 4.2537 \n",
            "Epoch 23/100\n",
            "\u001b[1m5/5\u001b[0m \u001b[32m━━━━━━━━━━━━━━━━━━━━\u001b[0m\u001b[37m\u001b[0m \u001b[1m0s\u001b[0m 5ms/step - accuracy: 0.1269 - loss: 4.2481 \n",
            "Epoch 24/100\n",
            "\u001b[1m5/5\u001b[0m \u001b[32m━━━━━━━━━━━━━━━━━━━━\u001b[0m\u001b[37m\u001b[0m \u001b[1m0s\u001b[0m 5ms/step - accuracy: 0.0312 - loss: 4.2311 \n",
            "Epoch 25/100\n",
            "\u001b[1m5/5\u001b[0m \u001b[32m━━━━━━━━━━━━━━━━━━━━\u001b[0m\u001b[37m\u001b[0m \u001b[1m0s\u001b[0m 5ms/step - accuracy: 0.0407 - loss: 4.2652 \n",
            "Epoch 26/100\n",
            "\u001b[1m5/5\u001b[0m \u001b[32m━━━━━━━━━━━━━━━━━━━━\u001b[0m\u001b[37m\u001b[0m \u001b[1m0s\u001b[0m 5ms/step - accuracy: 0.0697 - loss: 4.1529 \n",
            "Epoch 27/100\n",
            "\u001b[1m5/5\u001b[0m \u001b[32m━━━━━━━━━━━━━━━━━━━━\u001b[0m\u001b[37m\u001b[0m \u001b[1m0s\u001b[0m 5ms/step - accuracy: 0.1173 - loss: 4.1956 \n",
            "Epoch 28/100\n",
            "\u001b[1m5/5\u001b[0m \u001b[32m━━━━━━━━━━━━━━━━━━━━\u001b[0m\u001b[37m\u001b[0m \u001b[1m0s\u001b[0m 5ms/step - accuracy: 0.1338 - loss: 4.1564 \n",
            "Epoch 29/100\n",
            "\u001b[1m5/5\u001b[0m \u001b[32m━━━━━━━━━━━━━━━━━━━━\u001b[0m\u001b[37m\u001b[0m \u001b[1m0s\u001b[0m 5ms/step - accuracy: 0.0827 - loss: 4.0873 \n",
            "Epoch 30/100\n",
            "\u001b[1m5/5\u001b[0m \u001b[32m━━━━━━━━━━━━━━━━━━━━\u001b[0m\u001b[37m\u001b[0m \u001b[1m0s\u001b[0m 5ms/step - accuracy: 0.0619 - loss: 4.0401 \n",
            "Epoch 31/100\n",
            "\u001b[1m5/5\u001b[0m \u001b[32m━━━━━━━━━━━━━━━━━━━━\u001b[0m\u001b[37m\u001b[0m \u001b[1m0s\u001b[0m 6ms/step - accuracy: 0.1000 - loss: 4.0499 \n",
            "Epoch 32/100\n",
            "\u001b[1m5/5\u001b[0m \u001b[32m━━━━━━━━━━━━━━━━━━━━\u001b[0m\u001b[37m\u001b[0m \u001b[1m0s\u001b[0m 6ms/step - accuracy: 0.1355 - loss: 4.0388 \n",
            "Epoch 33/100\n",
            "\u001b[1m5/5\u001b[0m \u001b[32m━━━━━━━━━━━━━━━━━━━━\u001b[0m\u001b[37m\u001b[0m \u001b[1m0s\u001b[0m 7ms/step - accuracy: 0.1338 - loss: 3.9993 \n",
            "Epoch 34/100\n",
            "\u001b[1m5/5\u001b[0m \u001b[32m━━━━━━━━━━━━━━━━━━━━\u001b[0m\u001b[37m\u001b[0m \u001b[1m0s\u001b[0m 5ms/step - accuracy: 0.1489 - loss: 3.8941  \n",
            "Epoch 35/100\n",
            "\u001b[1m5/5\u001b[0m \u001b[32m━━━━━━━━━━━━━━━━━━━━\u001b[0m\u001b[37m\u001b[0m \u001b[1m0s\u001b[0m 5ms/step - accuracy: 0.1259 - loss: 3.8927 \n",
            "Epoch 36/100\n",
            "\u001b[1m5/5\u001b[0m \u001b[32m━━━━━━━━━━━━━━━━━━━━\u001b[0m\u001b[37m\u001b[0m \u001b[1m0s\u001b[0m 5ms/step - accuracy: 0.1740 - loss: 3.8162 \n",
            "Epoch 37/100\n",
            "\u001b[1m5/5\u001b[0m \u001b[32m━━━━━━━━━━━━━━━━━━━━\u001b[0m\u001b[37m\u001b[0m \u001b[1m0s\u001b[0m 5ms/step - accuracy: 0.1836 - loss: 3.7366 \n",
            "Epoch 38/100\n",
            "\u001b[1m5/5\u001b[0m \u001b[32m━━━━━━━━━━━━━━━━━━━━\u001b[0m\u001b[37m\u001b[0m \u001b[1m0s\u001b[0m 5ms/step - accuracy: 0.1385 - loss: 3.7321 \n",
            "Epoch 39/100\n",
            "\u001b[1m5/5\u001b[0m \u001b[32m━━━━━━━━━━━━━━━━━━━━\u001b[0m\u001b[37m\u001b[0m \u001b[1m0s\u001b[0m 5ms/step - accuracy: 0.1727 - loss: 3.6574 \n",
            "Epoch 40/100\n",
            "\u001b[1m5/5\u001b[0m \u001b[32m━━━━━━━━━━━━━━━━━━━━\u001b[0m\u001b[37m\u001b[0m \u001b[1m0s\u001b[0m 5ms/step - accuracy: 0.2065 - loss: 3.6140 \n",
            "Epoch 41/100\n",
            "\u001b[1m5/5\u001b[0m \u001b[32m━━━━━━━━━━━━━━━━━━━━\u001b[0m\u001b[37m\u001b[0m \u001b[1m0s\u001b[0m 5ms/step - accuracy: 0.1922 - loss: 3.4975 \n",
            "Epoch 42/100\n",
            "\u001b[1m5/5\u001b[0m \u001b[32m━━━━━━━━━━━━━━━━━━━━\u001b[0m\u001b[37m\u001b[0m \u001b[1m0s\u001b[0m 5ms/step - accuracy: 0.1654 - loss: 3.4170 \n",
            "Epoch 43/100\n",
            "\u001b[1m5/5\u001b[0m \u001b[32m━━━━━━━━━━━━━━━━━━━━\u001b[0m\u001b[37m\u001b[0m \u001b[1m0s\u001b[0m 5ms/step - accuracy: 0.2208 - loss: 3.2878 \n",
            "Epoch 44/100\n",
            "\u001b[1m5/5\u001b[0m \u001b[32m━━━━━━━━━━━━━━━━━━━━\u001b[0m\u001b[37m\u001b[0m \u001b[1m0s\u001b[0m 5ms/step - accuracy: 0.3178 - loss: 3.1695 \n",
            "Epoch 45/100\n",
            "\u001b[1m5/5\u001b[0m \u001b[32m━━━━━━━━━━━━━━━━━━━━\u001b[0m\u001b[37m\u001b[0m \u001b[1m0s\u001b[0m 5ms/step - accuracy: 0.3516 - loss: 3.1055 \n",
            "Epoch 46/100\n",
            "\u001b[1m5/5\u001b[0m \u001b[32m━━━━━━━━━━━━━━━━━━━━\u001b[0m\u001b[37m\u001b[0m \u001b[1m0s\u001b[0m 5ms/step - accuracy: 0.2869 - loss: 3.0983 \n",
            "Epoch 47/100\n",
            "\u001b[1m5/5\u001b[0m \u001b[32m━━━━━━━━━━━━━━━━━━━━\u001b[0m\u001b[37m\u001b[0m \u001b[1m0s\u001b[0m 5ms/step - accuracy: 0.3663 - loss: 2.8974 \n",
            "Epoch 48/100\n",
            "\u001b[1m5/5\u001b[0m \u001b[32m━━━━━━━━━━━━━━━━━━━━\u001b[0m\u001b[37m\u001b[0m \u001b[1m0s\u001b[0m 5ms/step - accuracy: 0.3819 - loss: 2.7435 \n",
            "Epoch 49/100\n",
            "\u001b[1m5/5\u001b[0m \u001b[32m━━━━━━━━━━━━━━━━━━━━\u001b[0m\u001b[37m\u001b[0m \u001b[1m0s\u001b[0m 7ms/step - accuracy: 0.3593 - loss: 2.7328 \n",
            "Epoch 50/100\n",
            "\u001b[1m5/5\u001b[0m \u001b[32m━━━━━━━━━━━━━━━━━━━━\u001b[0m\u001b[37m\u001b[0m \u001b[1m0s\u001b[0m 5ms/step - accuracy: 0.4234 - loss: 2.6259  \n",
            "Epoch 51/100\n",
            "\u001b[1m5/5\u001b[0m \u001b[32m━━━━━━━━━━━━━━━━━━━━\u001b[0m\u001b[37m\u001b[0m \u001b[1m0s\u001b[0m 5ms/step - accuracy: 0.4537 - loss: 2.5692 \n",
            "Epoch 52/100\n",
            "\u001b[1m5/5\u001b[0m \u001b[32m━━━━━━━━━━━━━━━━━━━━\u001b[0m\u001b[37m\u001b[0m \u001b[1m0s\u001b[0m 5ms/step - accuracy: 0.4359 - loss: 2.4955 \n",
            "Epoch 53/100\n",
            "\u001b[1m5/5\u001b[0m \u001b[32m━━━━━━━━━━━━━━━━━━━━\u001b[0m\u001b[37m\u001b[0m \u001b[1m0s\u001b[0m 5ms/step - accuracy: 0.4485 - loss: 2.3698 \n",
            "Epoch 54/100\n",
            "\u001b[1m5/5\u001b[0m \u001b[32m━━━━━━━━━━━━━━━━━━━━\u001b[0m\u001b[37m\u001b[0m \u001b[1m0s\u001b[0m 5ms/step - accuracy: 0.4675 - loss: 2.3607 \n",
            "Epoch 55/100\n",
            "\u001b[1m5/5\u001b[0m \u001b[32m━━━━━━━━━━━━━━━━━━━━\u001b[0m\u001b[37m\u001b[0m \u001b[1m0s\u001b[0m 5ms/step - accuracy: 0.4480 - loss: 2.2180 \n",
            "Epoch 56/100\n",
            "\u001b[1m5/5\u001b[0m \u001b[32m━━━━━━━━━━━━━━━━━━━━\u001b[0m\u001b[37m\u001b[0m \u001b[1m0s\u001b[0m 5ms/step - accuracy: 0.3679 - loss: 2.2323 \n",
            "Epoch 57/100\n",
            "\u001b[1m5/5\u001b[0m \u001b[32m━━━━━━━━━━━━━━━━━━━━\u001b[0m\u001b[37m\u001b[0m \u001b[1m0s\u001b[0m 5ms/step - accuracy: 0.4961 - loss: 2.0164 \n",
            "Epoch 58/100\n",
            "\u001b[1m5/5\u001b[0m \u001b[32m━━━━━━━━━━━━━━━━━━━━\u001b[0m\u001b[37m\u001b[0m \u001b[1m0s\u001b[0m 5ms/step - accuracy: 0.5246 - loss: 2.0577 \n",
            "Epoch 59/100\n",
            "\u001b[1m5/5\u001b[0m \u001b[32m━━━━━━━━━━━━━━━━━━━━\u001b[0m\u001b[37m\u001b[0m \u001b[1m0s\u001b[0m 6ms/step - accuracy: 0.5134 - loss: 1.9811 \n",
            "Epoch 60/100\n",
            "\u001b[1m5/5\u001b[0m \u001b[32m━━━━━━━━━━━━━━━━━━━━\u001b[0m\u001b[37m\u001b[0m \u001b[1m0s\u001b[0m 5ms/step - accuracy: 0.5234 - loss: 1.8908 \n",
            "Epoch 61/100\n",
            "\u001b[1m5/5\u001b[0m \u001b[32m━━━━━━━━━━━━━━━━━━━━\u001b[0m\u001b[37m\u001b[0m \u001b[1m0s\u001b[0m 5ms/step - accuracy: 0.6078 - loss: 1.8209 \n",
            "Epoch 62/100\n",
            "\u001b[1m5/5\u001b[0m \u001b[32m━━━━━━━━━━━━━━━━━━━━\u001b[0m\u001b[37m\u001b[0m \u001b[1m0s\u001b[0m 5ms/step - accuracy: 0.6385 - loss: 1.6756 \n",
            "Epoch 63/100\n",
            "\u001b[1m5/5\u001b[0m \u001b[32m━━━━━━━━━━━━━━━━━━━━\u001b[0m\u001b[37m\u001b[0m \u001b[1m0s\u001b[0m 5ms/step - accuracy: 0.5666 - loss: 1.7708 \n",
            "Epoch 64/100\n",
            "\u001b[1m5/5\u001b[0m \u001b[32m━━━━━━━━━━━━━━━━━━━━\u001b[0m\u001b[37m\u001b[0m \u001b[1m0s\u001b[0m 5ms/step - accuracy: 0.6009 - loss: 1.6383 \n",
            "Epoch 65/100\n",
            "\u001b[1m5/5\u001b[0m \u001b[32m━━━━━━━━━━━━━━━━━━━━\u001b[0m\u001b[37m\u001b[0m \u001b[1m0s\u001b[0m 6ms/step - accuracy: 0.6497 - loss: 1.6196 \n",
            "Epoch 66/100\n",
            "\u001b[1m5/5\u001b[0m \u001b[32m━━━━━━━━━━━━━━━━━━━━\u001b[0m\u001b[37m\u001b[0m \u001b[1m0s\u001b[0m 6ms/step - accuracy: 0.6419 - loss: 1.6051 \n",
            "Epoch 67/100\n",
            "\u001b[1m5/5\u001b[0m \u001b[32m━━━━━━━━━━━━━━━━━━━━\u001b[0m\u001b[37m\u001b[0m \u001b[1m0s\u001b[0m 6ms/step - accuracy: 0.6346 - loss: 1.5406 \n",
            "Epoch 68/100\n",
            "\u001b[1m5/5\u001b[0m \u001b[32m━━━━━━━━━━━━━━━━━━━━\u001b[0m\u001b[37m\u001b[0m \u001b[1m0s\u001b[0m 6ms/step - accuracy: 0.6923 - loss: 1.4998 \n",
            "Epoch 69/100\n",
            "\u001b[1m5/5\u001b[0m \u001b[32m━━━━━━━━━━━━━━━━━━━━\u001b[0m\u001b[37m\u001b[0m \u001b[1m0s\u001b[0m 5ms/step - accuracy: 0.7039 - loss: 1.3557 \n",
            "Epoch 70/100\n",
            "\u001b[1m5/5\u001b[0m \u001b[32m━━━━━━━━━━━━━━━━━━━━\u001b[0m\u001b[37m\u001b[0m \u001b[1m0s\u001b[0m 5ms/step - accuracy: 0.8100 - loss: 1.3149 \n",
            "Epoch 71/100\n",
            "\u001b[1m5/5\u001b[0m \u001b[32m━━━━━━━━━━━━━━━━━━━━\u001b[0m\u001b[37m\u001b[0m \u001b[1m0s\u001b[0m 5ms/step - accuracy: 0.7784 - loss: 1.3026 \n",
            "Epoch 72/100\n",
            "\u001b[1m5/5\u001b[0m \u001b[32m━━━━━━━━━━━━━━━━━━━━\u001b[0m\u001b[37m\u001b[0m \u001b[1m0s\u001b[0m 5ms/step - accuracy: 0.6965 - loss: 1.3288 \n",
            "Epoch 73/100\n",
            "\u001b[1m5/5\u001b[0m \u001b[32m━━━━━━━━━━━━━━━━━━━━\u001b[0m\u001b[37m\u001b[0m \u001b[1m0s\u001b[0m 5ms/step - accuracy: 0.7416 - loss: 1.2579 \n",
            "Epoch 74/100\n",
            "\u001b[1m5/5\u001b[0m \u001b[32m━━━━━━━━━━━━━━━━━━━━\u001b[0m\u001b[37m\u001b[0m \u001b[1m0s\u001b[0m 7ms/step - accuracy: 0.7667 - loss: 1.2534 \n",
            "Epoch 75/100\n",
            "\u001b[1m5/5\u001b[0m \u001b[32m━━━━━━━━━━━━━━━━━━━━\u001b[0m\u001b[37m\u001b[0m \u001b[1m0s\u001b[0m 5ms/step - accuracy: 0.7752 - loss: 1.1898 \n",
            "Epoch 76/100\n",
            "\u001b[1m5/5\u001b[0m \u001b[32m━━━━━━━━━━━━━━━━━━━━\u001b[0m\u001b[37m\u001b[0m \u001b[1m0s\u001b[0m 5ms/step - accuracy: 0.8122 - loss: 1.0531 \n",
            "Epoch 77/100\n",
            "\u001b[1m5/5\u001b[0m \u001b[32m━━━━━━━━━━━━━━━━━━━━\u001b[0m\u001b[37m\u001b[0m \u001b[1m0s\u001b[0m 5ms/step - accuracy: 0.7688 - loss: 1.0823 \n",
            "Epoch 78/100\n",
            "\u001b[1m5/5\u001b[0m \u001b[32m━━━━━━━━━━━━━━━━━━━━\u001b[0m\u001b[37m\u001b[0m \u001b[1m0s\u001b[0m 5ms/step - accuracy: 0.7883 - loss: 1.0162 \n",
            "Epoch 79/100\n",
            "\u001b[1m5/5\u001b[0m \u001b[32m━━━━━━━━━━━━━━━━━━━━\u001b[0m\u001b[37m\u001b[0m \u001b[1m0s\u001b[0m 5ms/step - accuracy: 0.8091 - loss: 0.9678 \n",
            "Epoch 80/100\n",
            "\u001b[1m5/5\u001b[0m \u001b[32m━━━━━━━━━━━━━━━━━━━━\u001b[0m\u001b[37m\u001b[0m \u001b[1m0s\u001b[0m 5ms/step - accuracy: 0.7791 - loss: 1.0402 \n",
            "Epoch 81/100\n",
            "\u001b[1m5/5\u001b[0m \u001b[32m━━━━━━━━━━━━━━━━━━━━\u001b[0m\u001b[37m\u001b[0m \u001b[1m0s\u001b[0m 6ms/step - accuracy: 0.8754 - loss: 0.8906 \n",
            "Epoch 82/100\n",
            "\u001b[1m5/5\u001b[0m \u001b[32m━━━━━━━━━━━━━━━━━━━━\u001b[0m\u001b[37m\u001b[0m \u001b[1m0s\u001b[0m 5ms/step - accuracy: 0.8289 - loss: 0.9407 \n",
            "Epoch 83/100\n",
            "\u001b[1m5/5\u001b[0m \u001b[32m━━━━━━━━━━━━━━━━━━━━\u001b[0m\u001b[37m\u001b[0m \u001b[1m0s\u001b[0m 6ms/step - accuracy: 0.8489 - loss: 0.9115 \n",
            "Epoch 84/100\n",
            "\u001b[1m5/5\u001b[0m \u001b[32m━━━━━━━━━━━━━━━━━━━━\u001b[0m\u001b[37m\u001b[0m \u001b[1m0s\u001b[0m 6ms/step - accuracy: 0.8905 - loss: 0.8230 \n",
            "Epoch 85/100\n",
            "\u001b[1m5/5\u001b[0m \u001b[32m━━━━━━━━━━━━━━━━━━━━\u001b[0m\u001b[37m\u001b[0m \u001b[1m0s\u001b[0m 6ms/step - accuracy: 0.8943 - loss: 0.8103 \n",
            "Epoch 86/100\n",
            "\u001b[1m5/5\u001b[0m \u001b[32m━━━━━━━━━━━━━━━━━━━━\u001b[0m\u001b[37m\u001b[0m \u001b[1m0s\u001b[0m 7ms/step - accuracy: 0.8931 - loss: 0.7802 \n",
            "Epoch 87/100\n",
            "\u001b[1m5/5\u001b[0m \u001b[32m━━━━━━━━━━━━━━━━━━━━\u001b[0m\u001b[37m\u001b[0m \u001b[1m0s\u001b[0m 5ms/step - accuracy: 0.8853 - loss: 0.7620 \n",
            "Epoch 88/100\n",
            "\u001b[1m5/5\u001b[0m \u001b[32m━━━━━━━━━━━━━━━━━━━━\u001b[0m\u001b[37m\u001b[0m \u001b[1m0s\u001b[0m 5ms/step - accuracy: 0.8532 - loss: 0.7674 \n",
            "Epoch 89/100\n",
            "\u001b[1m5/5\u001b[0m \u001b[32m━━━━━━━━━━━━━━━━━━━━\u001b[0m\u001b[37m\u001b[0m \u001b[1m0s\u001b[0m 5ms/step - accuracy: 0.8731 - loss: 0.7388 \n",
            "Epoch 90/100\n",
            "\u001b[1m5/5\u001b[0m \u001b[32m━━━━━━━━━━━━━━━━━━━━\u001b[0m\u001b[37m\u001b[0m \u001b[1m0s\u001b[0m 5ms/step - accuracy: 0.8974 - loss: 0.6554 \n",
            "Epoch 91/100\n",
            "\u001b[1m5/5\u001b[0m \u001b[32m━━━━━━━━━━━━━━━━━━━━\u001b[0m\u001b[37m\u001b[0m \u001b[1m0s\u001b[0m 5ms/step - accuracy: 0.8870 - loss: 0.6864 \n",
            "Epoch 92/100\n",
            "\u001b[1m5/5\u001b[0m \u001b[32m━━━━━━━━━━━━━━━━━━━━\u001b[0m\u001b[37m\u001b[0m \u001b[1m0s\u001b[0m 6ms/step - accuracy: 0.8805 - loss: 0.6584 \n",
            "Epoch 93/100\n",
            "\u001b[1m5/5\u001b[0m \u001b[32m━━━━━━━━━━━━━━━━━━━━\u001b[0m\u001b[37m\u001b[0m \u001b[1m0s\u001b[0m 5ms/step - accuracy: 0.8848 - loss: 0.6170 \n",
            "Epoch 94/100\n",
            "\u001b[1m5/5\u001b[0m \u001b[32m━━━━━━━━━━━━━━━━━━━━\u001b[0m\u001b[37m\u001b[0m \u001b[1m0s\u001b[0m 5ms/step - accuracy: 0.9169 - loss: 0.5531 \n",
            "Epoch 95/100\n",
            "\u001b[1m5/5\u001b[0m \u001b[32m━━━━━━━━━━━━━━━━━━━━\u001b[0m\u001b[37m\u001b[0m \u001b[1m0s\u001b[0m 5ms/step - accuracy: 0.8732 - loss: 0.5987 \n",
            "Epoch 96/100\n",
            "\u001b[1m5/5\u001b[0m \u001b[32m━━━━━━━━━━━━━━━━━━━━\u001b[0m\u001b[37m\u001b[0m \u001b[1m0s\u001b[0m 5ms/step - accuracy: 0.8679 - loss: 0.5889 \n",
            "Epoch 97/100\n",
            "\u001b[1m5/5\u001b[0m \u001b[32m━━━━━━━━━━━━━━━━━━━━\u001b[0m\u001b[37m\u001b[0m \u001b[1m0s\u001b[0m 6ms/step - accuracy: 0.9212 - loss: 0.5527 \n",
            "Epoch 98/100\n",
            "\u001b[1m5/5\u001b[0m \u001b[32m━━━━━━━━━━━━━━━━━━━━\u001b[0m\u001b[37m\u001b[0m \u001b[1m0s\u001b[0m 5ms/step - accuracy: 0.9104 - loss: 0.5785 \n",
            "Epoch 99/100\n",
            "\u001b[1m5/5\u001b[0m \u001b[32m━━━━━━━━━━━━━━━━━━━━\u001b[0m\u001b[37m\u001b[0m \u001b[1m0s\u001b[0m 5ms/step - accuracy: 0.9169 - loss: 0.5500 \n",
            "Epoch 100/100\n",
            "\u001b[1m5/5\u001b[0m \u001b[32m━━━━━━━━━━━━━━━━━━━━\u001b[0m\u001b[37m\u001b[0m \u001b[1m0s\u001b[0m 5ms/step - accuracy: 0.9217 - loss: 0.5154 \n"
          ]
        }
      ]
    },
    {
      "cell_type": "code",
      "source": [
        "text = 'wireless'\n",
        "#tokenize\n",
        "token_text = tokenizer.texts_to_sequences([text])[0]\n",
        "#padding\n",
        "padded_token_text = pad_sequences([token_text], maxlen=max_len, padding='pre')\n",
        "# print(padded_token_text)\n",
        "#prediction\n",
        "model.predict(padded_token_text)\n"
      ],
      "metadata": {
        "colab": {
          "base_uri": "https://localhost:8080/"
        },
        "id": "_H1GkjN7rMm_",
        "outputId": "fe1f0058-e532-44ee-c019-061304c45eef"
      },
      "execution_count": 48,
      "outputs": [
        {
          "output_type": "stream",
          "name": "stdout",
          "text": [
            "\u001b[1m1/1\u001b[0m \u001b[32m━━━━━━━━━━━━━━━━━━━━\u001b[0m\u001b[37m\u001b[0m \u001b[1m0s\u001b[0m 36ms/step\n"
          ]
        },
        {
          "output_type": "execute_result",
          "data": {
            "text/plain": [
              "array([[9.0424174e-07, 1.0959395e-02, 1.8454492e-02, 2.1236599e-03,\n",
              "        3.8169921e-05, 7.4228841e-01, 1.9526987e-04, 5.0454913e-03,\n",
              "        7.0479438e-03, 8.3253019e-07, 2.5269279e-04, 6.1081315e-04,\n",
              "        1.1783137e-06, 1.0159293e-03, 9.5605257e-04, 8.4108245e-03,\n",
              "        3.7371687e-05, 1.5384343e-03, 5.7895683e-02, 2.1991911e-03,\n",
              "        4.1765745e-07, 8.6789178e-03, 4.4065024e-04, 7.5749622e-04,\n",
              "        7.0074764e-03, 2.8040717e-04, 5.9657912e-03, 7.8103287e-05,\n",
              "        1.7919670e-03, 6.5086881e-04, 1.2069229e-03, 1.5633206e-05,\n",
              "        2.4936468e-05, 1.9050855e-03, 6.2812869e-03, 6.1808067e-04,\n",
              "        5.0375070e-03, 7.0404226e-04, 5.8707906e-07, 9.6256726e-06,\n",
              "        1.4872257e-06, 5.8567582e-04, 7.7213161e-03, 2.2897092e-07,\n",
              "        7.5349933e-04, 2.4015627e-04, 7.1303180e-07, 8.9655665e-04,\n",
              "        8.1553577e-07, 1.8195019e-03, 6.2144373e-04, 8.8460752e-07,\n",
              "        2.8472245e-04, 8.9089672e-06, 7.6359650e-04, 5.6340832e-07,\n",
              "        5.3338720e-03, 1.6127141e-04, 1.0270047e-06, 3.2790442e-04,\n",
              "        5.5349403e-07, 1.9233141e-04, 1.0676573e-06, 7.5251366e-05,\n",
              "        3.8909764e-07, 4.7807504e-07, 9.4275217e-04, 5.4168862e-07,\n",
              "        1.8443138e-03, 2.2080915e-04, 9.3848172e-07, 4.5850884e-05,\n",
              "        9.9005513e-07, 4.3740956e-04, 7.4016234e-06, 2.5877641e-03,\n",
              "        6.3510094e-04, 1.8317245e-06, 8.2185341e-04, 7.1777214e-07,\n",
              "        6.4289770e-07, 1.5430478e-04, 3.5429248e-06, 2.5883574e-07,\n",
              "        6.5512648e-07, 8.0296141e-04, 1.5835364e-03, 1.0294916e-06,\n",
              "        4.6012501e-06, 4.3915043e-07, 1.0095072e-03, 6.5238567e-07,\n",
              "        5.8628718e-04, 5.5304662e-07, 1.1487893e-03, 3.2092895e-02,\n",
              "        1.4133374e-04, 1.2825922e-06, 2.7523772e-04, 3.0294070e-06,\n",
              "        3.4013166e-05, 2.8908500e-03, 5.5113122e-07, 1.6700438e-03,\n",
              "        4.9375382e-07, 2.9688745e-04, 5.2818482e-06, 1.1961814e-04,\n",
              "        2.9202146e-04, 4.0750143e-05, 1.2244545e-06, 1.6465049e-03,\n",
              "        5.4780890e-07, 4.6733036e-04, 5.3468892e-07, 4.0147537e-03,\n",
              "        9.3764174e-05, 1.7688178e-06, 1.2081332e-06, 9.3711661e-03,\n",
              "        1.0034622e-02, 1.0004950e-06, 8.6595456e-04, 7.6670396e-05,\n",
              "        1.4413434e-06, 2.3871486e-03, 1.3761741e-06]], dtype=float32)"
            ]
          },
          "metadata": {},
          "execution_count": 48
        }
      ]
    },
    {
      "cell_type": "code",
      "source": [
        "model.predict(padded_token_text).shape"
      ],
      "metadata": {
        "colab": {
          "base_uri": "https://localhost:8080/"
        },
        "id": "t-uUeM_7r3RC",
        "outputId": "afce3986-47b2-4ca9-ae9d-0891f9fbe064"
      },
      "execution_count": 49,
      "outputs": [
        {
          "output_type": "stream",
          "name": "stdout",
          "text": [
            "\u001b[1m1/1\u001b[0m \u001b[32m━━━━━━━━━━━━━━━━━━━━\u001b[0m\u001b[37m\u001b[0m \u001b[1m0s\u001b[0m 16ms/step\n"
          ]
        },
        {
          "output_type": "execute_result",
          "data": {
            "text/plain": [
              "(1, 127)"
            ]
          },
          "metadata": {},
          "execution_count": 49
        }
      ]
    },
    {
      "cell_type": "code",
      "source": [
        "import numpy as np\n",
        "pos = np.argmax(model.predict(padded_token_text))"
      ],
      "metadata": {
        "colab": {
          "base_uri": "https://localhost:8080/"
        },
        "id": "HplHjnQ9sZAo",
        "outputId": "7682bc31-621d-40cd-fee4-c14432dede34"
      },
      "execution_count": 50,
      "outputs": [
        {
          "output_type": "stream",
          "name": "stdout",
          "text": [
            "\u001b[1m1/1\u001b[0m \u001b[32m━━━━━━━━━━━━━━━━━━━━\u001b[0m\u001b[37m\u001b[0m \u001b[1m0s\u001b[0m 17ms/step\n"
          ]
        }
      ]
    },
    {
      "cell_type": "code",
      "source": [
        "for word,index in tokenizer.word_index.items():\n",
        "  if index == pos:\n",
        "    print(word)\n",
        "\n"
      ],
      "metadata": {
        "colab": {
          "base_uri": "https://localhost:8080/"
        },
        "id": "EL00wvorscXA",
        "outputId": "e876138e-e655-482d-e7ec-0650607c2db5"
      },
      "execution_count": 51,
      "outputs": [
        {
          "output_type": "stream",
          "name": "stdout",
          "text": [
            "power\n"
          ]
        }
      ]
    },
    {
      "cell_type": "code",
      "source": [
        "text = 'calibration'\n",
        "for i in range(3):\n",
        "  #tokenize\n",
        "  token_text = tokenizer.texts_to_sequences([text])[0]\n",
        "  #padding\n",
        "  padded_token_text = pad_sequences([token_text], maxlen=max_len, padding='pre')\n",
        "  # print(padded_token_text)\n",
        "  #prediction\n",
        "  pos = np.argmax(model.predict(padded_token_text))\n",
        "  for word,index in tokenizer.word_index.items():\n",
        "    if index == pos:\n",
        "      text = text + ' ' + word\n",
        "      print(text)\n",
        ""
      ],
      "metadata": {
        "colab": {
          "base_uri": "https://localhost:8080/"
        },
        "id": "t_ua-S2wsnLP",
        "outputId": "728ba451-e665-4db6-f2dc-49fc82b99c9b"
      },
      "execution_count": 61,
      "outputs": [
        {
          "output_type": "stream",
          "name": "stdout",
          "text": [
            "\u001b[1m1/1\u001b[0m \u001b[32m━━━━━━━━━━━━━━━━━━━━\u001b[0m\u001b[37m\u001b[0m \u001b[1m0s\u001b[0m 17ms/step\n",
            "calibration and\n",
            "\u001b[1m1/1\u001b[0m \u001b[32m━━━━━━━━━━━━━━━━━━━━\u001b[0m\u001b[37m\u001b[0m \u001b[1m0s\u001b[0m 15ms/step\n",
            "calibration and data\n",
            "\u001b[1m1/1\u001b[0m \u001b[32m━━━━━━━━━━━━━━━━━━━━\u001b[0m\u001b[37m\u001b[0m \u001b[1m0s\u001b[0m 17ms/step\n",
            "calibration and data acquisition\n"
          ]
        }
      ]
    },
    {
      "cell_type": "code",
      "source": [
        "#acc and loss plot\n",
        "import matplotlib.pyplot as plt\n",
        "plt.plot(history.history['accuracy'])\n",
        "plt.title('model accuracy')\n",
        "plt.ylabel('accuracy')\n",
        "plt.xlabel('epoch')"
      ],
      "metadata": {
        "colab": {
          "base_uri": "https://localhost:8080/",
          "height": 489
        },
        "id": "ruJeSMkotq3h",
        "outputId": "29916a17-1cc8-4309-b4f7-99dbb167f589"
      },
      "execution_count": 58,
      "outputs": [
        {
          "output_type": "execute_result",
          "data": {
            "text/plain": [
              "Text(0.5, 0, 'epoch')"
            ]
          },
          "metadata": {},
          "execution_count": 58
        },
        {
          "output_type": "display_data",
          "data": {
            "text/plain": [
              "<Figure size 640x480 with 1 Axes>"
            ],
            "image/png": "[encoded data removed]"
          },
          "metadata": {}
        }
      ]
    },
    {
      "cell_type": "code",
      "source": [
        "#loss\n",
        "plt.plot(history.history['loss'])\n",
        "plt.title('model loss')\n",
        "plt.ylabel('loss')\n",
        "plt.xlabel('epoch')"
      ],
      "metadata": {
        "colab": {
          "base_uri": "https://localhost:8080/",
          "height": 489
        },
        "id": "KBdndXdXulb-",
        "outputId": "b7015211-0d9b-410e-e7f2-b7377cc6e97c"
      },
      "execution_count": 59,
      "outputs": [
        {
          "output_type": "execute_result",
          "data": {
            "text/plain": [
              "Text(0.5, 0, 'epoch')"
            ]
          },
          "metadata": {},
          "execution_count": 59
        },
        {
          "output_type": "display_data",
          "data": {
            "text/plain": [
              "<Figure size 640x480 with 1 Axes>"
            ],
            "image/png": "[encoded data removed]"
          },
          "metadata": {}
        }
      ]
    },
    {
      "cell_type": "markdown",
      "source": [
        "### **How to improve performance?**\n",
        "# 1. Use more data\n",
        "# 2. Increase the number of nodes in LSTM\n",
        "# 3. Use stacked LSTM (Multiple LSTM Layer)\n",
        "# 4. Use BiLSTM\n",
        "# 5. Use Transformers"
      ],
      "metadata": {
        "id": "xYbqmt1tvUH6"
      }
    },
    {
      "cell_type": "code",
      "source": [],
      "metadata": {
        "id": "XpgetUeJuq8J"
      },
      "execution_count": null,
      "outputs": []
    }
  ]
}